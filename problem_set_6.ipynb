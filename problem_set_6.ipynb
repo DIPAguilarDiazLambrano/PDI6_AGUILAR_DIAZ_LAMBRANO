{
 "cells": [
  {
   "cell_type": "markdown",
   "metadata": {},
   "source": [
    "# <center>Digital Image Processing - Problem Set 6</center>"
   ]
  },
  {
   "cell_type": "markdown",
   "metadata": {},
   "source": [
    "### Student Names:"
   ]
  },
  {
   "cell_type": "markdown",
   "metadata": {},
   "source": [
    "### Problem 1"
   ]
  },
  {
   "cell_type": "markdown",
   "metadata": {},
   "source": [
    "Write a function that performs image recognition using <b>your own implementation</b> of $k$-Nearest Neighbors ($k$-NN). You can (and are encouraged to) use the functions you have written for previous exercises. Your function should run the following steps:\n",
    "\n",
    "#### 1. Create dataset\n",
    "\n",
    "For this semester we are going to implement an improved version for image classification of the Sillicon Valley's Hot Dog or Not app"
   ]
  },
  {
   "cell_type": "code",
   "execution_count": 3,
   "metadata": {},
   "outputs": [
    {
     "data": {
      "text/html": [
       "<iframe width=\"560\" height=\"315\" src=\"https://www.youtube.com/embed/ACmydtFDTGs?rel=0&amp;controls=0&amp;showinfo=0\" frameborder=\"0\" allowfullscreen></iframe>"
      ],
      "text/plain": [
       "<IPython.core.display.HTML object>"
      ]
     },
     "execution_count": 3,
     "metadata": {},
     "output_type": "execute_result"
    }
   ],
   "source": [
    "from IPython.display import HTML\n",
    "\n",
    "HTML('<iframe width=\"560\" height=\"315\" src=\"https://www.youtube.com/embed/ACmydtFDTGs?rel=0&amp;controls=0&amp;showinfo=0\" frameborder=\"0\" allowfullscreen></iframe>')\n"
   ]
  },
  {
   "cell_type": "markdown",
   "metadata": {},
   "source": [
    "- Pick 1 for each of the following food types = [junk, dessert, sea, vegetarian, beverages].\n",
    "- Create two folders: **training_set** and **testing_set**\n",
    "- For each selected food, pick at least 10 different images and store 7 in training folder. The rest must be stored in the testing one.\n",
    "- Resize all images to a fixed resolution. Delete the previously saved images in order to preserve space. \n",
    "- If any image pre-processing is necessary, please do.\n",
    "\n",
    "Repeat all steps for all food images.\n",
    "\n",
    "**Example images.**\n",
    "<p>Junk</p>\n",
    "<img style=\"float: left; margin: 0px 0px 15px 15px;\" src=\"example/hot_dog_1.jpeg\" width=\"200\" height=\"200\">\n",
    "<img style=\"float: left; margin: 0px 0px 15px 15px;\" src=\"example/hot_dog_2.jpeg\" width=\"200\" height=\"200\">\n",
    "<img style=\"margin: 0px 0px 15px 15px;\" src=\"example/hot_dog_3.jpeg\" width=\"200\" height=\"200\"><br>\n",
    "\n",
    "<p>Dessert</p>\n",
    "<img style=\"float: left; margin: 0px 0px 15px 15px;\" src=\"example/ice_cream_2.jpeg\" width=\"150\" height=\"150\">\n",
    "<img style=\"float: left; margin: 0px 0px 15px 15px;\" src=\"example/ice_cream_3.jpeg\" width=\"150\" height=\"150\">\n",
    "<img style=\"margin:0px 0px 15px 15px;\" src=\"example/ice_cream_1.jpeg\" width=\"150\" height=\"150\"><br>\n",
    "\n",
    "\n",
    "#### 2. Compute descriptors\n",
    "\n",
    "- Describe each food in the training set.\n",
    "- You are encouraged to select the most appropiate descriptor seen in class.\n",
    "- Explain the reasons why you picked it. The result must be in one feature vector per image.\n",
    "- Repeat previous steps for all images within the training set.\n",
    "\n",
    "#### 3. Create classifier\n",
    "\n",
    "The $k$-NN classifier predicts a category for each testing example according to the following steps:\n",
    "- Pick an image from the testing set.\n",
    "- Compute the distance from the feature vector associated to the testing example to all the descriptors from the training set.\n",
    "- Select the closest $k$ training examples (that is, the $k$ training examples with shortest distance to our testing image).\n",
    "- Find the category(food) associated to each of the $k$ training examples. This information is created by you in the training set.\n",
    "- Assign a label to the testing image. The assigned label is equal to the most common label among the $k$ closes training examples.\n",
    "\n",
    "#### 4. Perform experiments\n",
    "\n",
    "Repeat this process for all testing examples. Compute the accuracy of the classifier in terms of the number of correctly classified testing examples over the total number of examples in the testing set. Compare the difference in performance between a 1-NN classifier, a 3-NN classifier and a $k$-NN classifier. Summarize the performance of each classifier using confusion matrices."
   ]
  }
 ],
 "metadata": {
  "kernelspec": {
   "display_name": "Python 3",
   "language": "python",
   "name": "python3"
  },
  "language_info": {
   "codemirror_mode": {
    "name": "ipython",
    "version": 3
   },
   "file_extension": ".py",
   "mimetype": "text/x-python",
   "name": "python",
   "nbconvert_exporter": "python",
   "pygments_lexer": "ipython3",
   "version": "3.6.2"
  }
 },
 "nbformat": 4,
 "nbformat_minor": 1
}
